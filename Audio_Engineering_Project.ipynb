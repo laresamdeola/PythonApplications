{
  "nbformat": 4,
  "nbformat_minor": 0,
  "metadata": {
    "colab": {
      "provenance": [],
      "authorship_tag": "ABX9TyPJ5/O/6yrWMPhVfiHzcbRq",
      "include_colab_link": true
    },
    "kernelspec": {
      "name": "python3",
      "display_name": "Python 3"
    },
    "language_info": {
      "name": "python"
    }
  },
  "cells": [
    {
      "cell_type": "markdown",
      "metadata": {
        "id": "view-in-github",
        "colab_type": "text"
      },
      "source": [
        "<a href=\"https://colab.research.google.com/github/laresamdeola/PythonApplications/blob/main/Audio_Engineering_Project.ipynb\" target=\"_parent\"><img src=\"https://colab.research.google.com/assets/colab-badge.svg\" alt=\"Open In Colab\"/></a>"
      ]
    },
    {
      "cell_type": "code",
      "execution_count": 6,
      "metadata": {
        "id": "i52jjezc6vyB"
      },
      "outputs": [],
      "source": [
        "import numpy as np\n",
        "import pandas as pd\n",
        "import matplotlib.pyplot as plt\n",
        "import nltk\n",
        "import random"
      ]
    },
    {
      "cell_type": "code",
      "source": [
        "data = pd.read_csv('words_praise_thesis.csv')"
      ],
      "metadata": {
        "id": "5dkPXxNrD0pu"
      },
      "execution_count": 3,
      "outputs": []
    },
    {
      "cell_type": "code",
      "source": [
        "words = data.iloc[:, 0].values"
      ],
      "metadata": {
        "id": "FURdznrmD_F1"
      },
      "execution_count": 4,
      "outputs": []
    },
    {
      "cell_type": "code",
      "source": [
        "print(words)"
      ],
      "metadata": {
        "colab": {
          "base_uri": "https://localhost:8080/"
        },
        "id": "ZeKw7AlHEdKA",
        "outputId": "f5d8477e-894b-451b-fb30-6988300fe8b8"
      },
      "execution_count": 5,
      "outputs": [
        {
          "output_type": "stream",
          "name": "stdout",
          "text": [
            "['Run' 'Stay' 'Leave' 'Has' 'Top' 'You' 'Give' 'Enough' 'Stop ' 'Grab'\n",
            " 'Hurry' 'Neither' 'Attract' 'Stand' 'Busy' 'Working' 'Forgive' 'Hands'\n",
            " 'Tie' 'Love' 'Admit' 'Hope' 'Instruct' 'Class' 'Instead ' 'Achieve'\n",
            " 'Ready' 'Close' 'Ration' 'Title' 'Fear' 'Scared' 'Decide' 'Emotion'\n",
            " 'Affirm' 'Rise' 'Trust ' 'Loose' 'Words' 'Happen' 'Apply' 'Right '\n",
            " 'Join ' 'First ' 'Total' 'Region' 'Drop' 'Round' 'View' 'Court' 'Limit'\n",
            " 'Date ' 'Call' 'Test' 'Me' 'event' 'Done' 'How ' 'Try ' 'TRUE' 'Bag'\n",
            " 'Post' 'Hurry' 'Relate ' 'Late' 'Frame' 'Fragile ' 'Group' 'Great '\n",
            " 'Fame' 'Come' 'Talk' 'Took' 'No' 'Eye' 'Fire' 'Search' 'Olive' 'Free'\n",
            " 'Race' 'Dear ' 'Sad' 'Elite' 'Receive ' 'Add' 'The ' 'Let' 'Seek ' 'All'\n",
            " 'Space' 'Prove' 'Fight ' 'Bill' 'Brain' 'Anchor ' 'Operate' 'Severe'\n",
            " 'Settle ' 'Amidst' 'Cell']\n"
          ]
        }
      ]
    },
    {
      "cell_type": "code",
      "source": [
        "print(type(words))"
      ],
      "metadata": {
        "colab": {
          "base_uri": "https://localhost:8080/"
        },
        "id": "4tnbVIjpHCCJ",
        "outputId": "341f91b3-e03f-4060-c591-48b8537858fb"
      },
      "execution_count": 22,
      "outputs": [
        {
          "output_type": "stream",
          "name": "stdout",
          "text": [
            "<class 'numpy.ndarray'>\n"
          ]
        }
      ]
    },
    {
      "cell_type": "code",
      "source": [
        "words_list = list(words)"
      ],
      "metadata": {
        "id": "TCpzwTf8HFWe"
      },
      "execution_count": 37,
      "outputs": []
    },
    {
      "cell_type": "code",
      "source": [
        "def select_random_words(amount_of_words):\n",
        "  random.shuffle(words_list)\n",
        "  random.choices(words_list, k=amount_of_words)\n",
        "  return words_list[:amount_of_words]"
      ],
      "metadata": {
        "id": "3RrZgBzRAWCh"
      },
      "execution_count": 43,
      "outputs": []
    },
    {
      "cell_type": "code",
      "source": [
        "print(select_random_words(10))"
      ],
      "metadata": {
        "colab": {
          "base_uri": "https://localhost:8080/"
        },
        "id": "7XSKlFWmEgmw",
        "outputId": "51e9b959-9859-493d-db41-cb325d533fc8"
      },
      "execution_count": 46,
      "outputs": [
        {
          "output_type": "stream",
          "name": "stdout",
          "text": [
            "['Rise', 'Close', 'Dear ', 'Drop', 'Stop ', 'Instead ', 'Prove', 'Stay', 'Hands', 'Race']\n"
          ]
        }
      ]
    }
  ]
}